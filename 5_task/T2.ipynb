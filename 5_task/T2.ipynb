{
 "cells": [
  {
   "cell_type": "markdown",
   "id": "60cc7ef0",
   "metadata": {},
   "source": []
  },
  {
   "cell_type": "code",
   "execution_count": 30,
   "id": "c9a81406",
   "metadata": {},
   "outputs": [],
   "source": [
    "import numpy as np\n",
    "import scipy.stats as stats"
   ]
  },
  {
   "cell_type": "code",
   "execution_count": 31,
   "id": "c4f0f10f",
   "metadata": {},
   "outputs": [
    {
     "data": {
      "text/plain": [
       "(array([[1., 0., 0., 0., 0.],\n",
       "        [1., 0., 0., 0., 0.],\n",
       "        [0., 1., 0., 0., 0.],\n",
       "        [0., 1., 0., 0., 0.],\n",
       "        [0., 1., 0., 0., 0.],\n",
       "        [0., 1., 0., 0., 0.],\n",
       "        [0., 1., 0., 0., 0.],\n",
       "        [0., 1., 0., 0., 0.],\n",
       "        [0., 0., 1., 0., 0.],\n",
       "        [0., 0., 1., 0., 0.],\n",
       "        [0., 0., 1., 0., 0.],\n",
       "        [0., 0., 1., 0., 0.],\n",
       "        [0., 0., 1., 0., 0.],\n",
       "        [0., 0., 1., 0., 0.],\n",
       "        [0., 0., 1., 0., 0.],\n",
       "        [0., 0., 1., 0., 0.],\n",
       "        [0., 0., 1., 0., 0.],\n",
       "        [0., 0., 1., 0., 0.],\n",
       "        [0., 0., 1., 0., 0.],\n",
       "        [0., 0., 0., 1., 0.],\n",
       "        [0., 0., 0., 1., 0.],\n",
       "        [0., 0., 0., 1., 0.],\n",
       "        [0., 0., 0., 1., 0.],\n",
       "        [0., 0., 0., 0., 1.],\n",
       "        [0., 0., 0., 0., 1.]]),\n",
       " array([83, 85, 84, 85, 85, 86, 86, 87, 86, 87, 87, 87, 88, 88, 88, 88, 88,\n",
       "        89, 90, 89, 90, 90, 91, 90, 92]))"
      ]
     },
     "execution_count": 31,
     "metadata": {},
     "output_type": "execute_result"
    }
   ],
   "source": [
    "Y = np.array([83, 85, 84, 85, 85, 86, 86, 87, 86, 87, 87, 87, 88, 88, 88, 88, 88, 89, 90, 89, 90, 90, 91, 90, 92])\n",
    "KSI=np.zeros((len(Y),5))\n",
    "KSI[0:2,0]=1\n",
    "KSI[2:8,1]=1\n",
    "KSI[8:19,2]=1\n",
    "KSI[19:23,3]=1\n",
    "KSI[23:25,4]=1\n",
    "KSI, Y"
   ]
  },
  {
   "cell_type": "code",
   "execution_count": 32,
   "id": "4c9864d4",
   "metadata": {},
   "outputs": [
    {
     "data": {
      "text/plain": [
       "array([[0.5       , 0.        , 0.        , 0.        , 0.        ],\n",
       "       [0.        , 0.16666667, 0.        , 0.        , 0.        ],\n",
       "       [0.        , 0.        , 0.09090909, 0.        , 0.        ],\n",
       "       [0.        , 0.        , 0.        , 0.25      , 0.        ],\n",
       "       [0.        , 0.        , 0.        , 0.        , 0.5       ]])"
      ]
     },
     "execution_count": 32,
     "metadata": {},
     "output_type": "execute_result"
    }
   ],
   "source": [
    "F = KSI.T.dot(KSI)\n",
    "F_inv = np.linalg.inv(F)\n",
    "def get_coef(ksi, nu):\n",
    "    PSI_ = np.array([ksi[i] for i in range(ksi.shape[0])])\n",
    "    Y_ = nu\n",
    "    F_ = PSI_.T @ PSI_\n",
    "    F_inv_ = np.linalg.inv(F_)\n",
    "    betta_ = F_inv_ @ PSI_.T @ Y_\n",
    "    return betta_\n",
    "F_inv"
   ]
  },
  {
   "cell_type": "markdown",
   "id": "32bf53ff",
   "metadata": {},
   "source": [
    "* a) Определить влияние возраста на содержание иммуноглобулина в крови с помощью регрессионного анализа"
   ]
  },
  {
   "cell_type": "code",
   "execution_count": 33,
   "id": "88bdabba",
   "metadata": {},
   "outputs": [
    {
     "name": "stdout",
     "output_type": "stream",
     "text": [
      "84.0x1 + 85.5x2 + 87.82x3 + 90.0x4 + 91.0x5\n"
     ]
    }
   ],
   "source": [
    "betta = get_coef(KSI, Y)\n",
    "print(f'{np.round(betta[0], 2)}x1 + {np.round(betta[1], 2)}x2 + {np.round(betta[2], 2)}x3 + {np.round(betta[3], 2)}x4 + {np.round(betta[4], 2)}x5')"
   ]
  },
  {
   "cell_type": "markdown",
   "id": "a2a68cc1",
   "metadata": {},
   "source": [
    "* b) Провести попарное сравнение средних в рамках регрессионной модели, с учетом множественности проверяемых гипотез"
   ]
  },
  {
   "cell_type": "code",
   "execution_count": 34,
   "id": "b48461a8",
   "metadata": {},
   "outputs": [],
   "source": [
    "def prediction(betta, ksi):\n",
    "    return betta @ ksi"
   ]
  },
  {
   "cell_type": "code",
   "execution_count": 35,
   "id": "55ce1dcd",
   "metadata": {},
   "outputs": [
    {
     "name": "stdout",
     "output_type": "stream",
     "text": [
      "[-1.          1.         -1.5        -0.5        -0.5         0.5\n",
      "  0.5         1.5        -1.81818182 -0.81818182 -0.81818182 -0.81818182\n",
      "  0.18181818  0.18181818  0.18181818  0.18181818  0.18181818  1.18181818\n",
      "  2.18181818 -1.          0.          0.          1.         -1.\n",
      "  1.        ]\n"
     ]
    }
   ],
   "source": [
    "def E(Y, betta, ksi):\n",
    "    return Y - ([prediction(betta, ksi[i]) for i in range(ksi.shape[0])])\n",
    "e = E(Y, betta, KSI)\n",
    "print(e)"
   ]
  },
  {
   "cell_type": "code",
   "execution_count": 36,
   "id": "ccaf5c44",
   "metadata": {},
   "outputs": [
    {
     "name": "stdout",
     "output_type": "stream",
     "text": [
      "RSS=23.136363636363637\n"
     ]
    }
   ],
   "source": [
    "def RSS(e):\n",
    "    return e.T@e\n",
    "rss = RSS(e)\n",
    "print(f'RSS={rss}')"
   ]
  },
  {
   "cell_type": "code",
   "execution_count": 37,
   "id": "2c27f049",
   "metadata": {},
   "outputs": [
    {
     "name": "stdout",
     "output_type": "stream",
     "text": [
      "(0, 1): p_value=np.float64(0.0516) => \tразличия не значимы\n",
      "(0, 2): p_value=np.float64(0.0001) => \tразличия значимы\n",
      "(0, 3): p_value=np.float64(0.0) => \tразличия значимы\n",
      "(0, 4): p_value=np.float64(0.0) => \tразличия значимы\n",
      "(1, 2): p_value=np.float64(0.0002) => \tразличия значимы\n",
      "(1, 3): p_value=np.float64(0.0) => \tразличия значимы\n",
      "(1, 4): p_value=np.float64(0.0) => \tразличия значимы\n",
      "(2, 3): p_value=np.float64(0.0012) => \tразличия значимы\n",
      "(2, 4): p_value=np.float64(0.0005) => \tразличия значимы\n",
      "(3, 4): p_value=np.float64(0.1479) => \tразличия не значимы\n"
     ]
    }
   ],
   "source": [
    "p_values = np.array([])\n",
    "for i in range (betta.shape[0]):\n",
    "    for j in range(i + 1, betta.shape[0]):\n",
    "        delta = (betta[i] - betta[j])/np.sqrt(rss*(F_inv[i, i] + F_inv[j, j])) * np.sqrt(KSI.shape[0] - betta.shape[0])\n",
    "        p_value = stats.t.sf(np.abs(delta), KSI.shape[0] - betta.shape[0])\n",
    "        p_values = np.append(p_values, p_value)\n",
    "        result = 'различия не значимы' if p_value > 0.05 else 'различия значимы'\n",
    "        p_value = np.round(p_value, 4)\n",
    "        print(f'{i, j}: {p_value=} => \\t{result}')\n",
    "        "
   ]
  },
  {
   "cell_type": "code",
   "execution_count": 38,
   "id": "849db568",
   "metadata": {},
   "outputs": [
    {
     "name": "stdout",
     "output_type": "stream",
     "text": [
      "[1.20628514e-06 1.27673625e-06 1.39105575e-06 2.04259155e-06\n",
      " 8.31007244e-05 1.97520050e-04 5.01281453e-04 1.19666935e-03\n",
      " 5.15502045e-02 1.47895676e-01]\n",
      "0: отвергаем H0\n",
      "1: отвергаем H0\n",
      "2: отвергаем H0\n",
      "3: отвергаем H0\n",
      "4: отвергаем H0\n",
      "5: отвергаем H0\n",
      "6: отвергаем H0\n",
      "7: отвергаем H0\n",
      "8: все хорошо\n",
      "9: все хорошо\n"
     ]
    }
   ],
   "source": [
    "p_values = np.sort(p_values)\n",
    "print(p_values)\n",
    "m = p_values.shape[0]\n",
    "for i in range(p_values.shape[0]):\n",
    "    result\n",
    "    if (p_values[i] <= 0.05 / m):\n",
    "        result = 'отвергаем H0'\n",
    "        m -= 1 \n",
    "    else: \n",
    "        result = 'все хорошо'\n",
    "    print(f'{i}: {result}')"
   ]
  }
 ],
 "metadata": {
  "kernelspec": {
   "display_name": "Python 3",
   "language": "python",
   "name": "python3"
  },
  "language_info": {
   "codemirror_mode": {
    "name": "ipython",
    "version": 3
   },
   "file_extension": ".py",
   "mimetype": "text/x-python",
   "name": "python",
   "nbconvert_exporter": "python",
   "pygments_lexer": "ipython3",
   "version": "3.11.9"
  }
 },
 "nbformat": 4,
 "nbformat_minor": 5
}
