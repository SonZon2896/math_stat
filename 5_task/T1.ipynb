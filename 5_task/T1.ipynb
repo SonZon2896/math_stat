{
 "cells": [
  {
   "cell_type": "markdown",
   "id": "0fc4fe3f",
   "metadata": {},
   "source": [
    "Случайный вектор (ξ1, ξ2, ξ3, ξ4, ξ5, η):\n",
    "    ξk ∼ R(−1, 1),\n",
    "    η ∼ N(2 + 3x1 − 2x2 + x3 + x4 − x5, 1.5^2), \n",
    "        где xk это значения, которые принимает случайная величина ξk."
   ]
  },
  {
   "cell_type": "markdown",
   "id": "fb1081b2",
   "metadata": {},
   "source": [
    "* Сгенерировать выборку объема n = 50"
   ]
  },
  {
   "cell_type": "code",
   "execution_count": 226,
   "id": "ea02720b",
   "metadata": {},
   "outputs": [],
   "source": [
    "import numpy as np\n",
    "import scipy.stats as stats\n",
    "from matplotlib import pyplot as plt\n",
    "from seaborn import boxplot"
   ]
  },
  {
   "cell_type": "code",
   "execution_count": 227,
   "id": "2e82e19d",
   "metadata": {},
   "outputs": [
    {
     "name": "stdout",
     "output_type": "stream",
     "text": [
      "np.round(sample_ksi, 2)=array([[-0.47,  0.43,  0.86, -0.4 , -0.06],\n",
      "       [ 0.92,  0.09,  0.28,  0.52,  0.33],\n",
      "       [ 0.71, -0.98,  0.73, -0.89, -0.41],\n",
      "       [ 0.79, -0.82,  0.19,  0.25,  0.  ],\n",
      "       [ 0.65,  0.66,  0.38, -0.57, -0.  ],\n",
      "       [-0.53,  0.92,  0.28,  0.63, -0.54],\n",
      "       [-0.22, -0.49,  0.09,  0.23, -0.21],\n",
      "       [-0.69,  0.  ,  0.97, -0.09,  0.18],\n",
      "       [ 0.84, -0.09,  0.84,  0.58,  0.15],\n",
      "       [ 0.74,  0.34, -0.48, -0.29,  0.03],\n",
      "       [ 0.34, -0.33,  0.27,  0.27,  0.49],\n",
      "       [-0.09, -0.63,  0.67, -0.59,  0.56],\n",
      "       [-0.03, -0.17,  0.82,  0.65, -0.87],\n",
      "       [ 0.61,  0.09, -0.68,  0.31,  0.13],\n",
      "       [ 0.61,  0.84, -0.08, -0.45, -0.8 ],\n",
      "       [-0.6 ,  0.12,  0.56, -0.23, -0.88],\n",
      "       [ 0.03,  0.39, -0.67, -0.24,  0.46],\n",
      "       [ 0.79, -0.63,  0.6 , -0.65,  0.9 ],\n",
      "       [ 0.62, -0.43,  0.56, -0.09,  0.84],\n",
      "       [ 0.27,  0.78, -0.87,  0.94,  0.56],\n",
      "       [ 0.86, -0.86,  0.8 ,  0.11,  0.98],\n",
      "       [-0.48,  0.13, -0.52,  0.21, -0.66],\n",
      "       [-0.31,  0.43,  0.79,  0.46, -0.14],\n",
      "       [-0.66, -0.28, -0.46,  0.25, -0.98],\n",
      "       [ 0.86, -0.33, -0.41,  0.68, -0.87],\n",
      "       [ 0.4 ,  0.16,  0.51,  0.36,  0.94],\n",
      "       [-0.14, -0.85, -0.52,  0.66, -0.93],\n",
      "       [-0.48,  0.46, -0.36,  0.75, -0.82],\n",
      "       [ 0.41, -0.7 ,  0.88,  0.77,  0.74],\n",
      "       [ 0.87,  0.03, -0.38,  0.24,  0.56],\n",
      "       [ 0.5 , -0.21,  0.3 ,  0.14,  0.64],\n",
      "       [-0.9 ,  0.08,  0.29, -0.75,  1.  ],\n",
      "       [-0.2 ,  0.97, -0.14,  0.78,  0.73],\n",
      "       [-0.74, -0.07, -0.53, -0.2 , -0.81],\n",
      "       [ 0.83,  0.95,  0.81,  0.46,  0.14],\n",
      "       [-0.61, -0.03, -0.61, -0.71, -0.1 ],\n",
      "       [ 0.4 , -0.95, -0.98,  0.77,  0.17],\n",
      "       [-0.55, -0.47, -0.02, -0.83,  0.09],\n",
      "       [-0.7 , -0.46, -0.46, -0.99,  0.78],\n",
      "       [ 0.99,  0.12,  0.62,  0.91, -0.42],\n",
      "       [ 0.4 , -0.21,  0.16, -0.3 ,  0.14],\n",
      "       [ 0.38, -0.56,  0.47,  0.99,  0.88],\n",
      "       [ 0.82, -0.81, -0.23,  0.07,  0.27],\n",
      "       [-0.54,  0.03,  0.49,  0.43, -0.87],\n",
      "       [-0.55, -0.71,  0.04, -0.91,  0.56],\n",
      "       [-0.83, -0.67, -0.68, -0.83, -0.38],\n",
      "       [ 0.72,  0.61, -0.64, -0.41, -0.93],\n",
      "       [-0.04,  0.97, -0.93,  0.93, -0.16],\n",
      "       [-0.76, -0.25,  0.6 ,  0.51, -0.43],\n",
      "       [ 0.42,  0.78, -0.03,  0.7 , -0.48]])\n"
     ]
    }
   ],
   "source": [
    "n = 50\n",
    "sample_ksi = np.array([np.random.uniform(-1, 1, size=5) for _ in range(n)])\n",
    "sample_nu = np.array([np.random.normal(2 + 3*sample_ksi[i][0] - 2*sample_ksi[i][1] + sample_ksi[i][2] + sample_ksi[i][3] - sample_ksi[i][4], 1.5) for i in range(n)])\n",
    "print(f'{np.round(sample_ksi, 2)=}')"
   ]
  },
  {
   "cell_type": "code",
   "execution_count": 228,
   "id": "d60e3c50",
   "metadata": {},
   "outputs": [],
   "source": [
    "PSI = np.array([np.append(np.array([1]), sample_ksi[i]) for i in range(n)])\n",
    "Y = sample_nu\n",
    "F = PSI.T.dot(PSI)\n",
    "F_inv = np.linalg.inv(F)\n",
    "def get_coef(ksi, nu):\n",
    "    PSI_ = np.array([np.append(np.array([1]), ksi[i]) for i in range(ksi.shape[0])])\n",
    "    Y_ = nu\n",
    "    F_ = PSI_.T @ PSI_\n",
    "    F_inv_ = np.linalg.inv(F_)\n",
    "    betta_ = F_inv_ @ PSI_.T @ Y_\n",
    "    return betta_"
   ]
  },
  {
   "cell_type": "code",
   "execution_count": 229,
   "id": "0df8b607",
   "metadata": {},
   "outputs": [],
   "source": [
    "def prediction(betta, ksi):\n",
    "    return betta[0] + betta[1:] @ ksi"
   ]
  },
  {
   "cell_type": "code",
   "execution_count": 230,
   "id": "bb4fc588",
   "metadata": {},
   "outputs": [
    {
     "name": "stdout",
     "output_type": "stream",
     "text": [
      "1.93 + 4.23x1 + -1.57x2 + 0.35x3 + 0.01x4 + -1.4x5\n",
      "2 + 3x1 − 2x2 + x3 + x4 − x5: на самом деле\n"
     ]
    }
   ],
   "source": [
    "betta = get_coef(sample_ksi, sample_nu)\n",
    "print(f'{np.round(betta[0], 2)} + {np.round(betta[1], 2)}x1 + {np.round(betta[2], 2)}x2 + {np.round(betta[3], 2)}x3 + {np.round(betta[4], 2)}x4 + {np.round(betta[5], 2)}x5')\n",
    "print(f'2 + 3x1 − 2x2 + x3 + x4 − x5: на самом деле')"
   ]
  },
  {
   "cell_type": "code",
   "execution_count": 231,
   "id": "28e6b5ec",
   "metadata": {},
   "outputs": [],
   "source": [
    "def E(Y, betta, ksi):\n",
    "    return Y - ([prediction(betta, ksi[i]) for i in range(n)])"
   ]
  },
  {
   "cell_type": "code",
   "execution_count": 232,
   "id": "d2f3fa99",
   "metadata": {},
   "outputs": [
    {
     "name": "stdout",
     "output_type": "stream",
     "text": [
      "[-0.75161919 -1.74210346  1.50528379  0.5381054  -0.14279986  0.34568575\n",
      "  0.86931202 -0.95034446  0.00882015 -0.80250269 -0.03908886 -1.36887149\n",
      " -0.28499608  0.20771298  1.27010649  0.71264053 -0.94965329 -0.69540163\n",
      "  1.10634355 -0.25201242  1.8194368  -2.08378817  1.49263888  1.71851316\n",
      " -2.33606504 -1.33404145 -2.79075985  0.93062521  1.38405191  0.91269239\n",
      " -1.24462278 -0.86632211  0.83811991  0.15241111 -1.00184119  1.44816161\n",
      " -0.36683409 -2.08974291  0.50885379 -1.39912888 -0.33547417  1.26344769\n",
      "  1.64404902 -1.99127466 -1.03201186  1.10367261  1.30841959  0.43183287\n",
      "  2.02105306  1.30931033]\n"
     ]
    }
   ],
   "source": [
    "e = E(sample_nu, betta, sample_ksi)\n",
    "print(e)"
   ]
  },
  {
   "cell_type": "markdown",
   "id": "20e2155a",
   "metadata": {},
   "source": [
    "* а) Проверить переменные ξk на мультиколлинеарность."
   ]
  },
  {
   "cell_type": "code",
   "execution_count": 233,
   "id": "ff1c8b46",
   "metadata": {},
   "outputs": [
    {
     "name": "stdout",
     "output_type": "stream",
     "text": [
      "RSS=78.06711648770093\n"
     ]
    }
   ],
   "source": [
    "def RSS(e):\n",
    "    return e.T@e\n",
    "rss = RSS(e)\n",
    "print(f'RSS={rss}')"
   ]
  },
  {
   "cell_type": "code",
   "execution_count": 234,
   "id": "512ddeaa",
   "metadata": {},
   "outputs": [
    {
     "name": "stdout",
     "output_type": "stream",
     "text": [
      "TSS=424.74815135143444\n"
     ]
    }
   ],
   "source": [
    "def TSS(nu):\n",
    "    return np.sum((nu - np.mean(nu))**2)\n",
    "tss = TSS(sample_nu)\n",
    "print(f'TSS={tss}')"
   ]
  },
  {
   "cell_type": "code",
   "execution_count": 235,
   "id": "870df1c3",
   "metadata": {},
   "outputs": [
    {
     "name": "stdout",
     "output_type": "stream",
     "text": [
      "R^2=0.8162037521780559\n"
     ]
    }
   ],
   "source": [
    "def R_square(rss, tss):\n",
    "    return (tss - rss)/tss\n",
    "r_square = R_square(rss, tss)\n",
    "print(f'R^2={r_square}')"
   ]
  },
  {
   "cell_type": "code",
   "execution_count": 236,
   "id": "6f19fbf3",
   "metadata": {},
   "outputs": [],
   "source": [
    "def get_R_square_neither_ksi_i(betta, ksi_original, i):\n",
    "    ksi = ksi_original.copy()\n",
    "    temp = ksi[i].copy()\n",
    "    ksi[i] = 1\n",
    "    e = E(sample_nu, betta, ksi)\n",
    "    RR = R_square(RSS(e), TSS(sample_nu))\n",
    "    return RR"
   ]
  },
  {
   "cell_type": "code",
   "execution_count": 237,
   "id": "20c51797",
   "metadata": {},
   "outputs": [
    {
     "name": "stdout",
     "output_type": "stream",
     "text": [
      "RR0=np.float64(0.7669797192498735)\n",
      "RR1=np.float64(0.8233468615248865)\n",
      "RR2=np.float64(0.7561675353274044)\n",
      "RR3=np.float64(0.7855293485327617)\n",
      "RR4=np.float64(0.8162362331443659)\n"
     ]
    }
   ],
   "source": [
    "RR0 = get_R_square_neither_ksi_i(betta, sample_ksi, 0)\n",
    "RR1 = get_R_square_neither_ksi_i(betta, sample_ksi, 1)\n",
    "RR2 = get_R_square_neither_ksi_i(betta, sample_ksi, 2)\n",
    "RR3 = get_R_square_neither_ksi_i(betta, sample_ksi, 3)\n",
    "RR4 = get_R_square_neither_ksi_i(betta, sample_ksi, 4)\n",
    "print(f'{RR0=}')\n",
    "print(f'{RR1=}')\n",
    "print(f'{RR2=}')\n",
    "print(f'{RR3=}')\n",
    "print(f'{RR4=}')\n"
   ]
  },
  {
   "cell_type": "markdown",
   "id": "80609b53",
   "metadata": {},
   "source": [
    "* b) Определить уравнение линейной регрессии η = η = β0 + ∑βkξk и проверить значимость коэффициентов"
   ]
  },
  {
   "cell_type": "code",
   "execution_count": 238,
   "id": "8e1faaeb",
   "metadata": {},
   "outputs": [
    {
     "name": "stdout",
     "output_type": "stream",
     "text": [
      "1.93 + 4.23x1 + -1.57x2 + 0.35x3 + 0.01x4 + -1.4x5\n",
      "2 + 3x1 − 2x2 + x3 + x4 − x5: на самом деле\n"
     ]
    }
   ],
   "source": [
    "print(f'{np.round(betta[0], 2)} + {np.round(betta[1], 2)}x1 + {np.round(betta[2], 2)}x2 + {np.round(betta[3], 2)}x3 + {np.round(betta[4], 2)}x4 + {np.round(betta[5], 2)}x5')\n",
    "print(f'2 + 3x1 − 2x2 + x3 + x4 − x5: на самом деле')"
   ]
  },
  {
   "cell_type": "code",
   "execution_count": 239,
   "id": "cbd6a4f7",
   "metadata": {},
   "outputs": [],
   "source": [
    "df = n-betta.shape[0]\n",
    "def PValue(i):\n",
    "    delta = betta[i]/np.sqrt(rss*F_inv[i][i])*np.sqrt(df)\n",
    "    p_value = stats.t.sf(np.abs(delta), df)\n",
    "    return p_value"
   ]
  },
  {
   "cell_type": "code",
   "execution_count": 240,
   "id": "cdb03134",
   "metadata": {},
   "outputs": [
    {
     "name": "stdout",
     "output_type": "stream",
     "text": [
      "i=0:p_value=np.float64(0.0) => значим\n",
      "i=1:p_value=np.float64(0.0) => значим\n",
      "i=2:p_value=np.float64(0.0) => значим\n",
      "i=3:p_value=np.float64(0.1574) => не значим\n",
      "i=4:p_value=np.float64(0.4888) => не значим\n",
      "i=5:p_value=np.float64(0.0001) => значим\n"
     ]
    }
   ],
   "source": [
    "for i in range(6):\n",
    "    p_value = PValue(i)\n",
    "    result = 'не значим' if p_value >= 0.05 else 'значим'\n",
    "    p_value = np.round(p_value, 4)\n",
    "    print(f'{i=}:{p_value=} => {result}')"
   ]
  },
  {
   "cell_type": "markdown",
   "id": "f46950ec",
   "metadata": {},
   "source": [
    "* c) Определить коэффициент детерминации и провеить его значимость"
   ]
  },
  {
   "cell_type": "code",
   "execution_count": 241,
   "id": "c0039c19",
   "metadata": {},
   "outputs": [
    {
     "name": "stdout",
     "output_type": "stream",
     "text": [
      "Коэффициент детерминации(R^2): 0.8162037521780559\n"
     ]
    }
   ],
   "source": [
    "print(f'Коэффициент детерминации(R^2): {r_square}')"
   ]
  },
  {
   "cell_type": "code",
   "execution_count": 242,
   "id": "c7faaa10",
   "metadata": {},
   "outputs": [
    {
     "name": "stdout",
     "output_type": "stream",
     "text": [
      "p_value=np.float64(5.427284715820261e-16) => регрессия значима\n"
     ]
    }
   ],
   "source": [
    "delta = ((tss - rss)/4)/(rss/(n-5))\n",
    "p_value = stats.f.sf(delta, 4, n-5)\n",
    "result = 'регрессия значима' if p_value < 0.05 else 'регрессия незначима'\n",
    "print(f'{p_value=} => {result}')"
   ]
  },
  {
   "cell_type": "markdown",
   "id": "5c01f17c",
   "metadata": {},
   "source": [
    "* d) Найти значение в точке xk = 0 и построить 95% доверительный интервал"
   ]
  },
  {
   "cell_type": "code",
   "execution_count": 243,
   "id": "9e630941",
   "metadata": {},
   "outputs": [
    {
     "name": "stdout",
     "output_type": "stream",
     "text": [
      "значение в точке xk = 0: 1.9326515805910276\n"
     ]
    }
   ],
   "source": [
    "ksi_0 = np.array([0] * 5)\n",
    "result = betta[0] + betta[1:] @ ksi_0\n",
    "print(f'значение в точке xk = 0: {result}')"
   ]
  },
  {
   "cell_type": "code",
   "execution_count": 244,
   "id": "c3e14f00",
   "metadata": {},
   "outputs": [
    {
     "name": "stdout",
     "output_type": "stream",
     "text": [
      "Точный доверительный интервал: [-0.78080846  4.64611162]\n"
     ]
    }
   ],
   "source": [
    "PSI_0 = np.array([1, 0, 0, 0, 0, 0])\n",
    "delta = stats.t.ppf((1 + 0.95) / 2, df) * np.sqrt(rss * (1 + PSI_0 @ F_inv @ PSI_0.T) / (df))\n",
    "interval = np.array([result - delta, result + delta])\n",
    "print(f\"Точный доверительный интервал: {interval}\")"
   ]
  },
  {
   "cell_type": "markdown",
   "id": "96596b86",
   "metadata": {},
   "source": [
    "* e) Проверить предположение о независимости ошибок измерения"
   ]
  },
  {
   "cell_type": "code",
   "execution_count": 245,
   "id": "4a23138a",
   "metadata": {},
   "outputs": [],
   "source": [
    "def inversionCount(arr):\n",
    "    n = len(arr) \n",
    "    invCount = 0  \n",
    "\n",
    "    for i in range(n - 1):\n",
    "        for j in range(i + 1, n):\n",
    "          \n",
    "            # If the current element is greater than the next,\n",
    "            # increment the count\n",
    "            if arr[i] > arr[j]:\n",
    "                invCount += 1\n",
    "    return invCount  "
   ]
  },
  {
   "cell_type": "code",
   "execution_count": 246,
   "id": "24ac7e60",
   "metadata": {},
   "outputs": [
    {
     "name": "stdout",
     "output_type": "stream",
     "text": [
      "p_value=np.float64(0.5028577901906203): выборка одинаково распределена\n"
     ]
    }
   ],
   "source": [
    "I = np.array([inversionCount(sample_ksi[:, i]) for i in range(5)])\n",
    "delta = (I[0] - n*(n-1)/4)/np.sqrt(n**3/36)\n",
    "p_value = 2 * stats.norm.sf(0.67)\n",
    "result = 'выборка одинаково распределена' if 0.025 < p_value < 0.975 else 'выборка распределена не одинаково'\n",
    "print(f'{p_value=}: {result}')"
   ]
  },
  {
   "cell_type": "markdown",
   "id": "90d8a644",
   "metadata": {},
   "source": [
    "* f) Проверить предположение о нормальности распределения ошибок"
   ]
  },
  {
   "cell_type": "code",
   "execution_count": 247,
   "id": "2624aded",
   "metadata": {},
   "outputs": [
    {
     "name": "stdout",
     "output_type": "stream",
     "text": [
      "p_value=np.float64(0.7527) => адекватная модель\n",
      "Дисперсия: 1.2495368460969924\n"
     ]
    }
   ],
   "source": [
    "dispersion = np.sqrt(1/n * np.sum((e - np.mean(e))**2))\n",
    "delta = rss/dispersion**2\n",
    "p_value = stats.chi2.cdf(delta, df)\n",
    "result = 'адекватная модель' if p_value >= 0.05 else 'неадекватная модель'\n",
    "p_value = np.round(p_value, 4)\n",
    "print(f'{p_value=} => {result}')\n",
    "print(f'Дисперсия: {dispersion}')"
   ]
  },
  {
   "cell_type": "markdown",
   "id": "c0f05d9f",
   "metadata": {},
   "source": [
    "* g) Исследовать регрессию на выбросы"
   ]
  },
  {
   "cell_type": "code",
   "execution_count": 248,
   "id": "5c016af2",
   "metadata": {},
   "outputs": [
    {
     "data": {
      "image/png": "[encoded data removed]",
      "text/plain": [
       "<Figure size 1000x100 with 1 Axes>"
      ]
     },
     "metadata": {},
     "output_type": "display_data"
    }
   ],
   "source": [
    "_, ax = plt.subplots(1, 1, figsize=(10, 1))\n",
    "ax.set_title(\"Boxplot\")\n",
    "boxplot(x=sorted(e))\n",
    "plt.show()"
   ]
  },
  {
   "cell_type": "markdown",
   "id": "0aa5ed62",
   "metadata": {},
   "source": [
    "* h) Провести кросс-проверку регрессии"
   ]
  },
  {
   "cell_type": "code",
   "execution_count": 249,
   "id": "124a0e79",
   "metadata": {},
   "outputs": [
    {
     "name": "stdout",
     "output_type": "stream",
     "text": [
      "предсказательная способность модели: 0.7598848804037919\n"
     ]
    }
   ],
   "source": [
    "cvsss = np.array([])\n",
    "for i in range(n):\n",
    "    ksi = np.delete(sample_ksi, i, axis=0)\n",
    "    nu = np.delete(sample_nu, i, axis=0)\n",
    "    temp_betta = get_coef(ksi, nu)\n",
    "    cvsss = np.append(cvsss, (sample_nu[i] - prediction(temp_betta, sample_ksi[i]))**2)\n",
    "cvss = np.sum(cvsss)\n",
    "R_square_cv = (tss - cvss) / tss\n",
    "print(f'предсказательная способность модели: {R_square_cv}')\n"
   ]
  },
  {
   "cell_type": "markdown",
   "id": "006a63df",
   "metadata": {},
   "source": [
    "i) Проверить адекватность регрессии, сделав 5 повторных измерений в одной точке"
   ]
  },
  {
   "cell_type": "code",
   "execution_count": null,
   "id": "de535529",
   "metadata": {},
   "outputs": [],
   "source": []
  }
 ],
 "metadata": {
  "kernelspec": {
   "display_name": "Python 3",
   "language": "python",
   "name": "python3"
  },
  "language_info": {
   "codemirror_mode": {
    "name": "ipython",
    "version": 3
   },
   "file_extension": ".py",
   "mimetype": "text/x-python",
   "name": "python",
   "nbconvert_exporter": "python",
   "pygments_lexer": "ipython3",
   "version": "3.11.9"
  }
 },
 "nbformat": 4,
 "nbformat_minor": 5
}
