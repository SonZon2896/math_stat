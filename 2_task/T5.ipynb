{
 "cells": [
  {
   "cell_type": "markdown",
   "metadata": {},
   "source": [
    "![image](./T5_1.jpg)\n",
    "![image](./T5_2.jpg)\n",
    "![image](./T5_3.jpg)"
   ]
  },
  {
   "cell_type": "code",
   "execution_count": 85,
   "metadata": {},
   "outputs": [],
   "source": [
    "import numpy as np\n",
    "from seaborn import boxplot\n",
    "import matplotlib.pyplot as plt\n",
    "from matplotlib.ticker import AutoMinorLocator\n",
    "from scipy import stats\n",
    "from seaborn import boxplot\n",
    "import scipy as sp"
   ]
  },
  {
   "cell_type": "markdown",
   "metadata": {},
   "source": [
    "* Генерируем выборку\n",
    "* Theta = 10"
   ]
  },
  {
   "cell_type": "code",
   "execution_count": 86,
   "metadata": {},
   "outputs": [
    {
     "name": "stdout",
     "output_type": "stream",
     "text": [
      "sample=array([11.423359  , 14.81750351, 15.59903465, 17.68429242, 18.00863521,\n",
      "       11.33698776, 16.79165167, 13.28343027, 19.23000362, 10.25391491,\n",
      "       13.37479633, 10.71807821, 13.62923581, 19.09248594, 13.59083101,\n",
      "       10.04241213, 12.92615095, 16.29348245, 12.87075707, 11.6323949 ,\n",
      "       10.61996767, 11.61679706, 14.79303805, 18.62580086, 17.26782744,\n",
      "       13.0743881 , 17.86939846, 18.60199664, 10.63561798, 19.79793423,\n",
      "       19.75907676, 13.51562882, 16.45730297, 19.26178758, 17.0286282 ,\n",
      "       17.79502267, 12.30650933, 16.04705876, 10.52225944, 16.63362261,\n",
      "       10.48402084, 13.83285474, 17.01773589, 11.10896717, 14.51916314,\n",
      "       12.498138  , 19.81654875, 10.71140616, 11.71214682, 15.53844353,\n",
      "       13.4265781 , 14.00688552, 19.16983148, 15.13815995, 12.72217931,\n",
      "       16.86482755, 16.21054482, 11.00725845, 19.10854957, 19.02676421,\n",
      "       13.93152088, 10.64254603, 16.23399395, 17.61898942, 19.5456549 ,\n",
      "       17.48305798, 15.01039612, 18.10958293, 17.87101867, 18.79474883,\n",
      "       12.1598384 , 11.02063704, 14.61170995, 18.80965228, 11.49187454,\n",
      "       13.65828752, 14.09540916, 10.32239587, 14.81116241, 16.34557973,\n",
      "       19.04396603, 16.11513984, 13.75668305, 11.39242836, 14.7332959 ,\n",
      "       11.68661743, 14.00339684, 12.05709022, 11.04959604, 10.66010873,\n",
      "       16.40138637, 10.31189103, 17.62618387, 14.78110507, 18.8542559 ,\n",
      "       10.18978759, 16.7817732 , 15.54452572, 16.37959679, 17.44152311])\n"
     ]
    }
   ],
   "source": [
    "n = 100\n",
    "theta_true = 10\n",
    "sample = np.random.random(size=n)*theta_true + theta_true\n",
    "print(f'{sample=}')"
   ]
  },
  {
   "cell_type": "code",
   "execution_count": 87,
   "metadata": {},
   "outputs": [],
   "source": [
    "betta = 0.95\n",
    "t1 = -1.96\n",
    "t2 = 1.96\n",
    "x_mean = np.mean(sample)\n",
    "theta = 2/3*x_mean\n",
    "alpha_1 = np.sum(sample)/n\n",
    "alpha_2 = np.sum(sample**2)/n"
   ]
  },
  {
   "cell_type": "code",
   "execution_count": 88,
   "metadata": {},
   "outputs": [
    {
     "name": "stdout",
     "output_type": "stream",
     "text": [
      "btst_sample=array([[13.0743881 , 17.86939846, 16.34557973, ..., 10.71140616,\n",
      "        12.498138  , 11.39242836],\n",
      "       [11.39242836, 13.4265781 , 12.30650933, ..., 16.29348245,\n",
      "        12.498138  , 12.87075707],\n",
      "       [16.21054482, 19.16983148, 11.423359  , ..., 18.80965228,\n",
      "        10.48402084, 19.02676421],\n",
      "       ...,\n",
      "       [14.78110507, 19.5456549 , 16.37959679, ..., 11.49187454,\n",
      "        19.16983148, 10.64254603],\n",
      "       [18.00863521, 17.44152311, 10.31189103, ..., 18.80965228,\n",
      "        14.78110507, 16.40138637],\n",
      "       [17.48305798, 11.6323949 , 19.79793423, ..., 17.68429242,\n",
      "        15.13815995, 19.16983148]])\n"
     ]
    }
   ],
   "source": [
    "btst_iter = 1000\n",
    "btst_sample = sample[np.random.choice(len(sample), size=(btst_iter, len(sample)))]\n",
    "variat = np.sort(btst_sample)\n",
    "print(f\"{btst_sample=}\")"
   ]
  },
  {
   "cell_type": "code",
   "execution_count": 89,
   "metadata": {},
   "outputs": [
    {
     "name": "stdout",
     "output_type": "stream",
     "text": [
      "btst_t1=np.float64(-0.3592886827167838), btst_t2=np.float64(0.3819623237933989)\n"
     ]
    }
   ],
   "source": [
    "delta = []\n",
    "for btst_sample_i in btst_sample:\n",
    "    delta.append(2/3 * np.mean(btst_sample_i) - theta)\n",
    "delta = np.array(delta)\n",
    "delta = np.sort(delta)\n",
    "btst_t1 = delta[int(btst_iter * (1 - betta)/2)]\n",
    "btst_t2 = delta[int(btst_iter * (1 + betta)/2)]\n",
    "print(f'{btst_t1=}, {btst_t2=}')"
   ]
  },
  {
   "cell_type": "code",
   "execution_count": 90,
   "metadata": {},
   "outputs": [
    {
     "name": "stdout",
     "output_type": "stream",
     "text": [
      "точный д.и.: 9.508847619867945 <= tetta < 10.254318547926278, l:0.7454709280583334\n",
      "ассимптотический д.и.: 8.12281449925463 <= theta < 11.612232342928408, l:3.4894178436737775\n",
      "бутстраповский д.и.:9.48556109729812 <= theta <= 10.226812103808303, l:0.7412510065101827\n"
     ]
    }
   ],
   "source": [
    "accurate_left = x_mean/(-t1/np.sqrt(12*n)+3/2)\n",
    "accurate_right = x_mean/(t1/np.sqrt(12*n)+3/2)\n",
    "print(f\"точный д.и.: {accurate_left} <= tetta < {accurate_right}, l:{accurate_right - accurate_left}\")\n",
    "assymptotic_left = -1.96*(alpha_2-alpha_1**2)/np.sqrt(n)+theta\n",
    "assymptotic_right = 1.96*(alpha_2-alpha_1**2)/np.sqrt(n)+theta\n",
    "print(f\"ассимптотический д.и.: {assymptotic_left} <= theta < {assymptotic_right}, l:{assymptotic_right - assymptotic_left}\")\n",
    "btst_left = theta - btst_t2\n",
    "btst_right = theta - btst_t1\n",
    "print(f\"бутстраповский д.и.:{btst_left} <= theta <= {btst_right}, l:{btst_right - btst_left}\")"
   ]
  },
  {
   "cell_type": "code",
   "execution_count": 91,
   "metadata": {},
   "outputs": [
    {
     "data": {
      "image/png": "[encoded data removed]",
      "text/plain": [
       "<Figure size 640x480 with 1 Axes>"
      ]
     },
     "metadata": {},
     "output_type": "display_data"
    }
   ],
   "source": [
    "x1 = np.linspace(accurate_left, accurate_right, 100)\n",
    "y1 = [1] * 100 \n",
    "x2 = np.linspace(btst_left, btst_right, 100)\n",
    "y2 = [2] * 100\n",
    "x3 = np.linspace(assymptotic_left, assymptotic_right, 100)\n",
    "y3 = [3] * 100\n",
    "\n",
    "plt.plot(x1, y1, color=\"blue\", linewidth=5)\n",
    "plt.plot(x2, y2, color=\"green\", linewidth=5)\n",
    "plt.plot(x3, y3, color=\"red\", linewidth=5)\n",
    "\n",
    "plt.yticks([1, 2, 3], [\"Точный\", \"Бутстрап\", \"Асимптотический\"])\n",
    "plt.xlabel(\"Значение параметра\")\n",
    "plt.title(\"Доверительные интервалы\")\n",
    "\n",
    "plt.show()"
   ]
  }
 ],
 "metadata": {
  "kernelspec": {
   "display_name": "Python 3",
   "language": "python",
   "name": "python3"
  },
  "language_info": {
   "codemirror_mode": {
    "name": "ipython",
    "version": 3
   },
   "file_extension": ".py",
   "mimetype": "text/x-python",
   "name": "python",
   "nbconvert_exporter": "python",
   "pygments_lexer": "ipython3",
   "version": "3.11.9"
  }
 },
 "nbformat": 4,
 "nbformat_minor": 2
}
