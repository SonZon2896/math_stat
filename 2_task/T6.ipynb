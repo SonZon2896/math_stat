{
 "cells": [
  {
   "cell_type": "markdown",
   "metadata": {},
   "source": [
    "![image](./T6.jpg)"
   ]
  },
  {
   "cell_type": "code",
   "execution_count": 174,
   "metadata": {},
   "outputs": [],
   "source": [
    "import numpy as np\n",
    "from seaborn import boxplot\n",
    "import matplotlib.pyplot as plt\n",
    "from matplotlib.ticker import AutoMinorLocator\n",
    "from scipy import stats\n",
    "from seaborn import boxplot\n",
    "import scipy as sp"
   ]
  },
  {
   "cell_type": "code",
   "execution_count": 175,
   "metadata": {},
   "outputs": [],
   "source": [
    "def foo(sample, theta):\n",
    "    return (1 - sample) ** (1 / (1 - theta))"
   ]
  },
  {
   "cell_type": "code",
   "execution_count": 176,
   "metadata": {},
   "outputs": [
    {
     "name": "stdout",
     "output_type": "stream",
     "text": [
      "sample=array([1.0011358 , 1.00187762, 1.0019496 , 1.00274821, 1.00349109,\n",
      "       1.00434657, 1.00603123, 1.00733826, 1.00759831, 1.0084226 ,\n",
      "       1.00935092, 1.01077101, 1.01115182, 1.01715463, 1.02190548,\n",
      "       1.02271799, 1.02344827, 1.02631644, 1.02673203, 1.0274558 ,\n",
      "       1.02788626, 1.02804102, 1.02856279, 1.0290332 , 1.0301451 ,\n",
      "       1.03045661, 1.03287345, 1.03533388, 1.03572002, 1.03660839,\n",
      "       1.03666974, 1.0376172 , 1.03829392, 1.04141525, 1.04214621,\n",
      "       1.04246555, 1.0436111 , 1.04520722, 1.047366  , 1.04784866,\n",
      "       1.04918248, 1.04960465, 1.04977974, 1.05407574, 1.05435476,\n",
      "       1.05511671, 1.05532259, 1.05775884, 1.06051913, 1.06252073,\n",
      "       1.06305233, 1.06678276, 1.08495784, 1.08508868, 1.08536712,\n",
      "       1.08876652, 1.09096762, 1.09729183, 1.10003947, 1.10364527,\n",
      "       1.11948071, 1.12268103, 1.12619609, 1.12666202, 1.13380199,\n",
      "       1.1347731 , 1.13536607, 1.13725292, 1.14814622, 1.14854168,\n",
      "       1.15034269, 1.1509814 , 1.16086546, 1.16285425, 1.16593554,\n",
      "       1.16967599, 1.17234622, 1.18087434, 1.1937329 , 1.19632007,\n",
      "       1.19699237, 1.21053779, 1.21556752, 1.23119341, 1.24186396,\n",
      "       1.25488402, 1.27419986, 1.28147422, 1.2818995 , 1.28348566,\n",
      "       1.32016533, 1.34885782, 1.38228545, 1.38974709, 1.43398437,\n",
      "       1.45887649, 1.49384058, 1.63119553, 2.04286117, 2.18024163])\n"
     ]
    }
   ],
   "source": [
    "n = 100\n",
    "theta_true = 10\n",
    "betta = 0.95\n",
    "\n",
    "sample = np.array([foo(data, theta_true) for data in np.random.sample(n)])\n",
    "sample.sort()\n",
    "print(f'{sample=}')"
   ]
  },
  {
   "cell_type": "code",
   "execution_count": 177,
   "metadata": {},
   "outputs": [
    {
     "name": "stdout",
     "output_type": "stream",
     "text": [
      "9.54063910962002\n"
     ]
    }
   ],
   "source": [
    "theta = n/np.sum(np.log(sample))+1\n",
    "print(theta)"
   ]
  },
  {
   "cell_type": "code",
   "execution_count": 178,
   "metadata": {},
   "outputs": [
    {
     "name": "stdout",
     "output_type": "stream",
     "text": [
      "btst_sample=array([[1.0011358 , 1.03287345, 2.18024163, ..., 1.38974709, 1.02344827,\n",
      "        2.04286117],\n",
      "       [1.03045661, 1.28348566, 1.2818995 , ..., 1.15034269, 1.02190548,\n",
      "        1.21556752],\n",
      "       [1.08536712, 1.12666202, 1.38228545, ..., 1.06305233, 1.32016533,\n",
      "        1.06305233],\n",
      "       ...,\n",
      "       [1.0011358 , 1.34885782, 1.0019496 , ..., 1.02190548, 1.04960465,\n",
      "        1.00733826],\n",
      "       [1.09096762, 1.15034269, 1.16285425, ..., 1.0376172 , 1.03045661,\n",
      "        1.0290332 ],\n",
      "       [1.03572002, 1.04214621, 1.0011358 , ..., 1.18087434, 1.1937329 ,\n",
      "        1.00434657]])\n"
     ]
    }
   ],
   "source": [
    "btst_iter = 1000\n",
    "btst_sample = sample[np.random.choice(len(sample), size=(btst_iter, len(sample)))]\n",
    "print(f\"{btst_sample=}\")"
   ]
  },
  {
   "cell_type": "code",
   "execution_count": 179,
   "metadata": {},
   "outputs": [
    {
     "name": "stdout",
     "output_type": "stream",
     "text": [
      "param_btst_sample=array([[1.1426137 , 1.05662466, 1.26754098, ..., 1.28874477, 1.05359744,\n",
      "        1.04327099],\n",
      "       [1.146101  , 1.00764796, 1.19160979, ..., 1.32048674, 1.0730579 ,\n",
      "        1.14606495],\n",
      "       [1.09393317, 1.05098735, 1.06023186, ..., 1.15578205, 1.02693792,\n",
      "        1.27524268],\n",
      "       ...,\n",
      "       [1.14570999, 1.08974334, 1.04916883, ..., 1.03357111, 1.24304886,\n",
      "        1.01090891],\n",
      "       [1.39072043, 1.15276038, 1.02033248, ..., 1.22041464, 1.04428012,\n",
      "        1.08001233],\n",
      "       [1.06942897, 1.27680209, 1.08296171, ..., 1.18376344, 1.21859415,\n",
      "        1.00332832]])\n"
     ]
    }
   ],
   "source": [
    "param_btst_iter = 50_000\n",
    "param_btst_sample = np.array([np.array([foo(data, theta) for data in np.random.sample(n)]) for _ in range(param_btst_iter)])\n",
    "print(f'{param_btst_sample=}')"
   ]
  },
  {
   "cell_type": "code",
   "execution_count": 180,
   "metadata": {},
   "outputs": [],
   "source": [
    "def get_confidence_interval(btst_sample):\n",
    "    delta = []\n",
    "    for btst_sample_i in btst_sample:\n",
    "        delta.append(n/np.sum(np.log(btst_sample_i))+1 - theta)\n",
    "    delta = np.sort(np.array(delta))\n",
    "    btst_t1 = delta[int(btst_iter * (1 - betta)/2)]\n",
    "    btst_t2 = delta[int(btst_iter * (1 + betta)/2)]\n",
    "\n",
    "    btst_left = theta - btst_t2\n",
    "    btst_right = theta - btst_t1\n",
    "    return btst_left, btst_right"
   ]
  },
  {
   "cell_type": "code",
   "execution_count": 181,
   "metadata": {},
   "outputs": [
    {
     "name": "stdout",
     "output_type": "stream",
     "text": [
      "ассимптотический д.и.:7.14100260001674 <= theta <= 10.622685459726394, l:3.4816828597096547\n",
      "непараметрический бутстраповский д.и.:7.322720258719476 <= theta <= 11.23391293525922, l:3.911192676539743\n",
      "параметрический бутстраповский д.и.:11.067146847209807 <= theta <= 11.777975251440244, l:0.7108284042304369\n"
     ]
    }
   ],
   "source": [
    "assymptotic_left = n**(3/2)/(1.96+np.sqrt(n))/np.sum(np.log(sample))\n",
    "assymptotic_right = n**(3/2)/(-1.96+np.sqrt(n))/np.sum(np.log(sample))\n",
    "print(f\"ассимптотический д.и.:{assymptotic_left} <= theta <= {assymptotic_right}, l:{assymptotic_right - assymptotic_left}\")\n",
    "btst_left, btst_right = get_confidence_interval(btst_sample)\n",
    "print(f\"непараметрический бутстраповский д.и.:{btst_left} <= theta <= {btst_right}, l:{btst_right - btst_left}\")\n",
    "param_btst_left, param_btst_right = get_confidence_interval(param_btst_sample)\n",
    "print(f\"параметрический бутстраповский д.и.:{param_btst_left} <= theta <= {param_btst_right}, l:{param_btst_right - param_btst_left}\")"
   ]
  },
  {
   "cell_type": "code",
   "execution_count": 182,
   "metadata": {},
   "outputs": [
    {
     "data": {
      "image/png": "[encoded data removed]",
      "text/plain": [
       "<Figure size 640x480 with 1 Axes>"
      ]
     },
     "metadata": {},
     "output_type": "display_data"
    }
   ],
   "source": [
    "x1 = np.linspace(btst_left, btst_right, 100)\n",
    "y1 = [1] * 100 \n",
    "x2 = np.linspace(param_btst_left, param_btst_right, 100)\n",
    "y2 = [2] * 100 \n",
    "x3 = np.linspace(assymptotic_left, assymptotic_right, 100)\n",
    "y3 = [3] * 100\n",
    "\n",
    "plt.plot(x1, y1, color=\"blue\", linewidth=5)\n",
    "plt.plot(x2, y2, color=\"red\", linewidth=5)\n",
    "plt.plot(x3, y3, color=\"green\", linewidth=5)\n",
    "\n",
    "plt.yticks([1, 2, 3], [\"Непараметрический Бутстрап\", \"Параметрический Бутстрап\", \"Ассимптотический\"])\n",
    "plt.xlabel(\"Значение параметра\")\n",
    "plt.title(\"Доверительные интервалы\")\n",
    "\n",
    "plt.show()"
   ]
  }
 ],
 "metadata": {
  "kernelspec": {
   "display_name": "Python 3",
   "language": "python",
   "name": "python3"
  },
  "language_info": {
   "codemirror_mode": {
    "name": "ipython",
    "version": 3
   },
   "file_extension": ".py",
   "mimetype": "text/x-python",
   "name": "python",
   "nbconvert_exporter": "python",
   "pygments_lexer": "ipython3",
   "version": "3.11.9"
  }
 },
 "nbformat": 4,
 "nbformat_minor": 2
}
