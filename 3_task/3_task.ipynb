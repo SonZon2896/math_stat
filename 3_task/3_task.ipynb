{
 "cells": [
  {
   "cell_type": "markdown",
   "metadata": {},
   "source": [
    "![image](./T7.jpg)\n",
    "![image](./T8_T9.jpg)\n",
    "![image](./T10a.jpg)\n",
    "![image](./T10b.jpg)"
   ]
  }
 ],
 "metadata": {
  "language_info": {
   "name": "python"
  }
 },
 "nbformat": 4,
 "nbformat_minor": 2
}
