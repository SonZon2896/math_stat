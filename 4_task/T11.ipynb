{
 "cells": [
  {
   "cell_type": "markdown",
   "id": "37eaf62d",
   "metadata": {},
   "source": [
    "![image](./T11_1.jpg)\n",
    "![image](./T11_2.jpg)"
   ]
  }
 ],
 "metadata": {
  "language_info": {
   "name": "python"
  }
 },
 "nbformat": 4,
 "nbformat_minor": 5
}
